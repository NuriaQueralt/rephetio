{
 "cells": [
  {
   "cell_type": "code",
   "execution_count": 1,
   "metadata": {
    "collapsed": true
   },
   "outputs": [],
   "source": [
    "import pandas as pd"
   ]
  },
  {
   "cell_type": "markdown",
   "metadata": {},
   "source": [
    "### Get list of symptom nodes"
   ]
  },
  {
   "cell_type": "code",
   "execution_count": 2,
   "metadata": {},
   "outputs": [
    {
     "data": {
      "text/html": [
       "<div>\n",
       "<table border=\"1\" class=\"dataframe\">\n",
       "  <thead>\n",
       "    <tr style=\"text-align: right;\">\n",
       "      <th></th>\n",
       "      <th>mesh_code</th>\n",
       "      <th>mesh_term</th>\n",
       "      <th>in_hsdn</th>\n",
       "    </tr>\n",
       "  </thead>\n",
       "  <tbody>\n",
       "    <tr>\n",
       "      <th>0</th>\n",
       "      <td>MESH:D000006</td>\n",
       "      <td>Abdomen, Acute</td>\n",
       "      <td>1</td>\n",
       "    </tr>\n",
       "    <tr>\n",
       "      <th>1</th>\n",
       "      <td>MESH:D000270</td>\n",
       "      <td>Adie Syndrome</td>\n",
       "      <td>0</td>\n",
       "    </tr>\n",
       "  </tbody>\n",
       "</table>\n",
       "</div>"
      ],
      "text/plain": [
       "      mesh_code       mesh_term  in_hsdn\n",
       "0  MESH:D000006  Abdomen, Acute        1\n",
       "1  MESH:D000270   Adie Syndrome        0"
      ]
     },
     "execution_count": 2,
     "metadata": {},
     "output_type": "execute_result"
    }
   ],
   "source": [
    "# read list of symptom nodes from hetionet\n",
    "commit = 'a7036a37302973b15ab949aab4056d9bc062910e'\n",
    "url = 'https://raw.githubusercontent.com/dhimmel/mesh/' + commit + '/data/symptoms.tsv'\n",
    "symptoms_df = pd.read_table(url)\n",
    "symptoms_df = symptoms_df.rename(columns={'mesh_id':'mesh_code', 'mesh_name':'mesh_term'})\n",
    "symptoms_df = symptoms_df.assign(mesh_code = symptoms_df.mesh_code.apply(lambda x: 'MESH:' + x))\n",
    "symptoms_df.head(2)"
   ]
  },
  {
   "cell_type": "code",
   "execution_count": 3,
   "metadata": {
    "scrolled": true
   },
   "outputs": [
    {
     "data": {
      "text/html": [
       "<div>\n",
       "<table border=\"1\" class=\"dataframe\">\n",
       "  <thead>\n",
       "    <tr style=\"text-align: right;\">\n",
       "      <th></th>\n",
       "      <th>doid_code</th>\n",
       "      <th>doid_name</th>\n",
       "      <th>mesh_code</th>\n",
       "      <th>mesh_term</th>\n",
       "      <th>cooccurrence</th>\n",
       "      <th>expected</th>\n",
       "      <th>enrichment</th>\n",
       "      <th>odds_ratio</th>\n",
       "      <th>p_fisher</th>\n",
       "    </tr>\n",
       "  </thead>\n",
       "  <tbody>\n",
       "    <tr>\n",
       "      <th>0</th>\n",
       "      <td>DOID:10652</td>\n",
       "      <td>Alzheimer's disease</td>\n",
       "      <td>MESH:D004314</td>\n",
       "      <td>Down Syndrome</td>\n",
       "      <td>800</td>\n",
       "      <td>35.619601</td>\n",
       "      <td>22.459544</td>\n",
       "      <td>39.918352</td>\n",
       "      <td>0.0</td>\n",
       "    </tr>\n",
       "    <tr>\n",
       "      <th>1</th>\n",
       "      <td>DOID:10652</td>\n",
       "      <td>Alzheimer's disease</td>\n",
       "      <td>MESH:D008569</td>\n",
       "      <td>Memory Disorders</td>\n",
       "      <td>1593</td>\n",
       "      <td>76.580532</td>\n",
       "      <td>20.801631</td>\n",
       "      <td>41.885877</td>\n",
       "      <td>0.0</td>\n",
       "    </tr>\n",
       "  </tbody>\n",
       "</table>\n",
       "</div>"
      ],
      "text/plain": [
       "    doid_code            doid_name     mesh_code         mesh_term  \\\n",
       "0  DOID:10652  Alzheimer's disease  MESH:D004314     Down Syndrome   \n",
       "1  DOID:10652  Alzheimer's disease  MESH:D008569  Memory Disorders   \n",
       "\n",
       "   cooccurrence   expected  enrichment  odds_ratio  p_fisher  \n",
       "0           800  35.619601   22.459544   39.918352       0.0  \n",
       "1          1593  76.580532   20.801631   41.885877       0.0  "
      ]
     },
     "execution_count": 3,
     "metadata": {},
     "output_type": "execute_result"
    }
   ],
   "source": [
    "# read list of mesh symptoms in edges from hetionet\n",
    "commit = '60d611892bf387b5b23c5f2e2e3bc472cfce85f3'\n",
    "url = 'https://raw.githubusercontent.com/dhimmel/medline/' + commit + '/data/disease-symptom-cooccurrence.tsv'\n",
    "edges_df = pd.read_table(url)\n",
    "edges_df = edges_df.rename(columns={'mesh_id':'mesh_code', 'mesh_name':'mesh_term'})\n",
    "edges_df = (edges_df.assign(mesh_code = edges_df.mesh_code.apply(lambda x: 'MESH:' + x)))\n",
    "edges_df.head(2)"
   ]
  },
  {
   "cell_type": "code",
   "execution_count": 4,
   "metadata": {},
   "outputs": [
    {
     "data": {
      "text/plain": [
       "(438, 426, 426)"
      ]
     },
     "execution_count": 4,
     "metadata": {},
     "output_type": "execute_result"
    }
   ],
   "source": [
    "# are all in the total list of symptoms? yes\n",
    "(\n",
    "        len(symptoms_df.mesh_code.unique()), \n",
    "        len(edges_df.mesh_code.unique()), \n",
    "        len(set(list(symptoms_df.mesh_code)) & set(list(edges_df.mesh_code)))\n",
    ")"
   ]
  },
  {
   "cell_type": "code",
   "execution_count": 5,
   "metadata": {},
   "outputs": [
    {
     "data": {
      "text/html": [
       "<div>\n",
       "<table border=\"1\" class=\"dataframe\">\n",
       "  <thead>\n",
       "    <tr style=\"text-align: right;\">\n",
       "      <th></th>\n",
       "      <th>hp_code</th>\n",
       "      <th>hp_term</th>\n",
       "      <th>mesh_code</th>\n",
       "    </tr>\n",
       "  </thead>\n",
       "  <tbody>\n",
       "    <tr>\n",
       "      <th>0</th>\n",
       "      <td>HP:0009829</td>\n",
       "      <td>Phocomelia</td>\n",
       "      <td>MESH:D004480</td>\n",
       "    </tr>\n",
       "    <tr>\n",
       "      <th>1</th>\n",
       "      <td>HP:0012622</td>\n",
       "      <td>Chronic kidney disease</td>\n",
       "      <td>MESH:D051436</td>\n",
       "    </tr>\n",
       "  </tbody>\n",
       "</table>\n",
       "</div>"
      ],
      "text/plain": [
       "      hp_code                 hp_term     mesh_code\n",
       "0  HP:0009829              Phocomelia  MESH:D004480\n",
       "1  HP:0012622  Chronic kidney disease  MESH:D051436"
      ]
     },
     "execution_count": 5,
     "metadata": {},
     "output_type": "execute_result"
    }
   ],
   "source": [
    "# normalize hetionet symptom nodes from mesh to hp\n",
    "# load hp2mesh from HPO\n",
    "path = \"/home/nuria/workspace/repurposing/rephetio-su/orphanet/data/\"\n",
    "hp2mesh_df = pd.read_table(\"{}hp-hp2mesh-mappings.tsv\".format(path))\n",
    "hp2mesh_df.head(2)"
   ]
  },
  {
   "cell_type": "code",
   "execution_count": 6,
   "metadata": {},
   "outputs": [
    {
     "data": {
      "text/html": [
       "<div>\n",
       "<table border=\"1\" class=\"dataframe\">\n",
       "  <thead>\n",
       "    <tr style=\"text-align: right;\">\n",
       "      <th></th>\n",
       "      <th>mesh_code</th>\n",
       "      <th>mesh_term</th>\n",
       "      <th>in_hsdn</th>\n",
       "      <th>hp_code</th>\n",
       "      <th>hp_term</th>\n",
       "    </tr>\n",
       "  </thead>\n",
       "  <tbody>\n",
       "    <tr>\n",
       "      <th>0</th>\n",
       "      <td>MESH:D000006</td>\n",
       "      <td>Abdomen, Acute</td>\n",
       "      <td>1</td>\n",
       "      <td>NaN</td>\n",
       "      <td>NaN</td>\n",
       "    </tr>\n",
       "    <tr>\n",
       "      <th>1</th>\n",
       "      <td>MESH:D000270</td>\n",
       "      <td>Adie Syndrome</td>\n",
       "      <td>0</td>\n",
       "      <td>NaN</td>\n",
       "      <td>NaN</td>\n",
       "    </tr>\n",
       "    <tr>\n",
       "      <th>2</th>\n",
       "      <td>MESH:D000326</td>\n",
       "      <td>Adrenoleukodystrophy</td>\n",
       "      <td>0</td>\n",
       "      <td>NaN</td>\n",
       "      <td>NaN</td>\n",
       "    </tr>\n",
       "    <tr>\n",
       "      <th>3</th>\n",
       "      <td>MESH:D000334</td>\n",
       "      <td>Aerophagy</td>\n",
       "      <td>1</td>\n",
       "      <td>NaN</td>\n",
       "      <td>NaN</td>\n",
       "    </tr>\n",
       "    <tr>\n",
       "      <th>4</th>\n",
       "      <td>MESH:D000370</td>\n",
       "      <td>Ageusia</td>\n",
       "      <td>1</td>\n",
       "      <td>HP:0000224</td>\n",
       "      <td>Decreased taste sensation</td>\n",
       "    </tr>\n",
       "  </tbody>\n",
       "</table>\n",
       "</div>"
      ],
      "text/plain": [
       "      mesh_code             mesh_term  in_hsdn     hp_code  \\\n",
       "0  MESH:D000006        Abdomen, Acute        1         NaN   \n",
       "1  MESH:D000270         Adie Syndrome        0         NaN   \n",
       "2  MESH:D000326  Adrenoleukodystrophy        0         NaN   \n",
       "3  MESH:D000334             Aerophagy        1         NaN   \n",
       "4  MESH:D000370               Ageusia        1  HP:0000224   \n",
       "\n",
       "                     hp_term  \n",
       "0                        NaN  \n",
       "1                        NaN  \n",
       "2                        NaN  \n",
       "3                        NaN  \n",
       "4  Decreased taste sensation  "
      ]
     },
     "execution_count": 6,
     "metadata": {},
     "output_type": "execute_result"
    }
   ],
   "source": [
    "symptoms_df = symptoms_df.merge(hp2mesh_df, on='mesh_code', how='left')\n",
    "symptoms_df.head(5)"
   ]
  },
  {
   "cell_type": "code",
   "execution_count": 7,
   "metadata": {},
   "outputs": [
    {
     "data": {
      "text/html": [
       "<div>\n",
       "<table border=\"1\" class=\"dataframe\">\n",
       "  <thead>\n",
       "    <tr style=\"text-align: right;\">\n",
       "      <th></th>\n",
       "      <th>mesh_code</th>\n",
       "      <th>mesh_term</th>\n",
       "      <th>in_hsdn</th>\n",
       "      <th>hp_code</th>\n",
       "      <th>hp_term</th>\n",
       "      <th>normalized</th>\n",
       "    </tr>\n",
       "  </thead>\n",
       "  <tbody>\n",
       "    <tr>\n",
       "      <th>0</th>\n",
       "      <td>MESH:D000006</td>\n",
       "      <td>Abdomen, Acute</td>\n",
       "      <td>1</td>\n",
       "      <td>NaN</td>\n",
       "      <td>NaN</td>\n",
       "      <td>MESH:D000006</td>\n",
       "    </tr>\n",
       "    <tr>\n",
       "      <th>1</th>\n",
       "      <td>MESH:D000270</td>\n",
       "      <td>Adie Syndrome</td>\n",
       "      <td>0</td>\n",
       "      <td>NaN</td>\n",
       "      <td>NaN</td>\n",
       "      <td>MESH:D000270</td>\n",
       "    </tr>\n",
       "    <tr>\n",
       "      <th>2</th>\n",
       "      <td>MESH:D000326</td>\n",
       "      <td>Adrenoleukodystrophy</td>\n",
       "      <td>0</td>\n",
       "      <td>NaN</td>\n",
       "      <td>NaN</td>\n",
       "      <td>MESH:D000326</td>\n",
       "    </tr>\n",
       "    <tr>\n",
       "      <th>3</th>\n",
       "      <td>MESH:D000334</td>\n",
       "      <td>Aerophagy</td>\n",
       "      <td>1</td>\n",
       "      <td>NaN</td>\n",
       "      <td>NaN</td>\n",
       "      <td>MESH:D000334</td>\n",
       "    </tr>\n",
       "    <tr>\n",
       "      <th>4</th>\n",
       "      <td>MESH:D000370</td>\n",
       "      <td>Ageusia</td>\n",
       "      <td>1</td>\n",
       "      <td>HP:0000224</td>\n",
       "      <td>Decreased taste sensation</td>\n",
       "      <td>HP:0000224</td>\n",
       "    </tr>\n",
       "  </tbody>\n",
       "</table>\n",
       "</div>"
      ],
      "text/plain": [
       "      mesh_code             mesh_term  in_hsdn     hp_code  \\\n",
       "0  MESH:D000006        Abdomen, Acute        1         NaN   \n",
       "1  MESH:D000270         Adie Syndrome        0         NaN   \n",
       "2  MESH:D000326  Adrenoleukodystrophy        0         NaN   \n",
       "3  MESH:D000334             Aerophagy        1         NaN   \n",
       "4  MESH:D000370               Ageusia        1  HP:0000224   \n",
       "\n",
       "                     hp_term    normalized  \n",
       "0                        NaN  MESH:D000006  \n",
       "1                        NaN  MESH:D000270  \n",
       "2                        NaN  MESH:D000326  \n",
       "3                        NaN  MESH:D000334  \n",
       "4  Decreased taste sensation    HP:0000224  "
      ]
     },
     "execution_count": 7,
     "metadata": {},
     "output_type": "execute_result"
    }
   ],
   "source": [
    "symptoms_df = (symptoms_df\n",
    "    .assign(normalized = symptoms_df\n",
    "        [[\"hp_code\", \"mesh_code\"]]\n",
    "        .apply(lambda row: row[\"hp_code\"] if not pd.isnull(row[\"hp_code\"]) else row[\"mesh_code\"], axis = 1)\n",
    "    )\n",
    ")\n",
    "symptoms_df.head()"
   ]
  },
  {
   "cell_type": "code",
   "execution_count": 8,
   "metadata": {},
   "outputs": [
    {
     "data": {
      "text/html": [
       "<div>\n",
       "<table border=\"1\" class=\"dataframe\">\n",
       "  <thead>\n",
       "    <tr style=\"text-align: right;\">\n",
       "      <th></th>\n",
       "      <th>mesh_code</th>\n",
       "      <th>mesh_term</th>\n",
       "      <th>in_hsdn</th>\n",
       "      <th>hp_code</th>\n",
       "      <th>hp_term</th>\n",
       "      <th>normalized</th>\n",
       "      <th>alternative</th>\n",
       "    </tr>\n",
       "  </thead>\n",
       "  <tbody>\n",
       "    <tr>\n",
       "      <th>0</th>\n",
       "      <td>MESH:D000006</td>\n",
       "      <td>Abdomen, Acute</td>\n",
       "      <td>1</td>\n",
       "      <td>NaN</td>\n",
       "      <td>NaN</td>\n",
       "      <td>MESH:D000006</td>\n",
       "      <td>MESH:D000006</td>\n",
       "    </tr>\n",
       "    <tr>\n",
       "      <th>1</th>\n",
       "      <td>MESH:D000270</td>\n",
       "      <td>Adie Syndrome</td>\n",
       "      <td>0</td>\n",
       "      <td>NaN</td>\n",
       "      <td>NaN</td>\n",
       "      <td>MESH:D000270</td>\n",
       "      <td>MESH:D000270</td>\n",
       "    </tr>\n",
       "  </tbody>\n",
       "</table>\n",
       "</div>"
      ],
      "text/plain": [
       "      mesh_code       mesh_term  in_hsdn hp_code hp_term    normalized  \\\n",
       "0  MESH:D000006  Abdomen, Acute        1     NaN     NaN  MESH:D000006   \n",
       "1  MESH:D000270   Adie Syndrome        0     NaN     NaN  MESH:D000270   \n",
       "\n",
       "    alternative  \n",
       "0  MESH:D000006  \n",
       "1  MESH:D000270  "
      ]
     },
     "execution_count": 8,
     "metadata": {},
     "output_type": "execute_result"
    }
   ],
   "source": [
    "# alternative way of normalizing ids in one column\n",
    "symptoms_df['alternative'] = (symptoms_df[[\"hp_code\",\"mesh_code\"]]\n",
    "                              .apply(lambda x: x.hp_code if not pd.isnull(x.hp_code) else x.mesh_code, axis=1)\n",
    "                             \n",
    "                             )\n",
    "symptoms_df.head(2)"
   ]
  },
  {
   "cell_type": "code",
   "execution_count": 9,
   "metadata": {
    "scrolled": false
   },
   "outputs": [
    {
     "data": {
      "text/plain": [
       "True"
      ]
     },
     "execution_count": 9,
     "metadata": {},
     "output_type": "execute_result"
    }
   ],
   "source": [
    "(symptoms_df[\"alternative\"] == symptoms_df[\"normalized\"]).all()"
   ]
  },
  {
   "cell_type": "code",
   "execution_count": 10,
   "metadata": {},
   "outputs": [
    {
     "data": {
      "text/html": [
       "<div>\n",
       "<table border=\"1\" class=\"dataframe\">\n",
       "  <thead>\n",
       "    <tr style=\"text-align: right;\">\n",
       "      <th></th>\n",
       "      <th>orphanet_code</th>\n",
       "      <th>orphanet_term</th>\n",
       "      <th>hp_code</th>\n",
       "      <th>hp_term</th>\n",
       "    </tr>\n",
       "  </thead>\n",
       "  <tbody>\n",
       "    <tr>\n",
       "      <th>0</th>\n",
       "      <td>DOID:10923</td>\n",
       "      <td>Sickle cell anemia</td>\n",
       "      <td>HP:0004870</td>\n",
       "      <td>Chronic hemolytic anemia</td>\n",
       "    </tr>\n",
       "    <tr>\n",
       "      <th>1</th>\n",
       "      <td>DOID:10923</td>\n",
       "      <td>Sickle cell anemia</td>\n",
       "      <td>HP:0001878</td>\n",
       "      <td>Hemolytic anemia</td>\n",
       "    </tr>\n",
       "  </tbody>\n",
       "</table>\n",
       "</div>"
      ],
      "text/plain": [
       "  orphanet_code       orphanet_term     hp_code                   hp_term\n",
       "0    DOID:10923  Sickle cell anemia  HP:0004870  Chronic hemolytic anemia\n",
       "1    DOID:10923  Sickle cell anemia  HP:0001878          Hemolytic anemia"
      ]
     },
     "execution_count": 10,
     "metadata": {},
     "output_type": "execute_result"
    }
   ],
   "source": [
    "# read list of symptoms from orphanet\n",
    "url = '/home/nuria/workspace/repurposing/rephetio-su/orphanet/data/orphanet-mondo-disease-symptom.tsv'\n",
    "orpha_df = pd.read_table(url)\n",
    "orpha_df.head(2)"
   ]
  },
  {
   "cell_type": "code",
   "execution_count": 11,
   "metadata": {},
   "outputs": [
    {
     "name": "stdout",
     "output_type": "stream",
     "text": [
      "#symptoms: 4997\n"
     ]
    },
    {
     "data": {
      "text/html": [
       "<div>\n",
       "<table border=\"1\" class=\"dataframe\">\n",
       "  <thead>\n",
       "    <tr style=\"text-align: right;\">\n",
       "      <th></th>\n",
       "      <th>symptom_id</th>\n",
       "      <th>symptom_name</th>\n",
       "    </tr>\n",
       "  </thead>\n",
       "  <tbody>\n",
       "    <tr>\n",
       "      <th>0</th>\n",
       "      <td>MESH:D000006</td>\n",
       "      <td>Abdomen, Acute</td>\n",
       "    </tr>\n",
       "    <tr>\n",
       "      <th>1</th>\n",
       "      <td>MESH:D000270</td>\n",
       "      <td>Adie Syndrome</td>\n",
       "    </tr>\n",
       "    <tr>\n",
       "      <th>2</th>\n",
       "      <td>MESH:D000326</td>\n",
       "      <td>Adrenoleukodystrophy</td>\n",
       "    </tr>\n",
       "    <tr>\n",
       "      <th>3</th>\n",
       "      <td>MESH:D000334</td>\n",
       "      <td>Aerophagy</td>\n",
       "    </tr>\n",
       "    <tr>\n",
       "      <th>4</th>\n",
       "      <td>HP:0000224</td>\n",
       "      <td>Ageusia</td>\n",
       "    </tr>\n",
       "  </tbody>\n",
       "</table>\n",
       "</div>"
      ],
      "text/plain": [
       "     symptom_id          symptom_name\n",
       "0  MESH:D000006        Abdomen, Acute\n",
       "1  MESH:D000270         Adie Syndrome\n",
       "2  MESH:D000326  Adrenoleukodystrophy\n",
       "3  MESH:D000334             Aerophagy\n",
       "4    HP:0000224               Ageusia"
      ]
     },
     "execution_count": 11,
     "metadata": {},
     "output_type": "execute_result"
    }
   ],
   "source": [
    "# merge all symptom sets\n",
    "hetionet_df = symptoms_df[['normalized', 'mesh_term']]\n",
    "orphanet_df = orpha_df[['hp_code', 'hp_term']]\n",
    "hetionet_df = hetionet_df.rename(columns={'normalized':'symptom_id', 'mesh_term':'symptom_name'})\n",
    "orphanet_df = orphanet_df.rename(columns={'hp_code':'symptom_id', 'hp_term':'symptom_name'})\n",
    "all_df = pd.concat([hetionet_df, orphanet_df])\n",
    "all_symptoms_df = all_df.drop_duplicates()\n",
    "print('#symptoms: {}'.format(len(all_symptoms_df)))\n",
    "all_symptoms_df.head()"
   ]
  },
  {
   "cell_type": "code",
   "execution_count": 12,
   "metadata": {
    "collapsed": true
   },
   "outputs": [],
   "source": [
    "all_symptoms_df.to_csv('data/symptoms.tsv', sep='\\t', index=False, header=True)"
   ]
  },
  {
   "cell_type": "markdown",
   "metadata": {},
   "source": [
    "### Normalize symptoms in symptom edges from hetionet"
   ]
  },
  {
   "cell_type": "code",
   "execution_count": 13,
   "metadata": {},
   "outputs": [
    {
     "data": {
      "text/plain": [
       "(133, 426)"
      ]
     },
     "execution_count": 13,
     "metadata": {},
     "output_type": "execute_result"
    }
   ],
   "source": [
    "edges_df.doid_code.nunique(), edges_df.mesh_code.nunique()"
   ]
  },
  {
   "cell_type": "code",
   "execution_count": 14,
   "metadata": {},
   "outputs": [
    {
     "data": {
      "text/plain": [
       "(133, 426)"
      ]
     },
     "execution_count": 14,
     "metadata": {},
     "output_type": "execute_result"
    }
   ],
   "source": [
    "# map\n",
    "edges_df = (edges_df\n",
    "                .merge(hp2mesh_df, on = 'mesh_code', how = 'left')\n",
    "           )\n",
    "edges_df.doid_code.nunique(), edges_df.mesh_code.nunique()"
   ]
  },
  {
   "cell_type": "code",
   "execution_count": 15,
   "metadata": {
    "collapsed": true
   },
   "outputs": [],
   "source": [
    "# integrate\n",
    "edges_df = (edges_df\n",
    "                .assign(symptom_id = \n",
    "                        edges_df[[\"hp_code\",\"mesh_code\"]]\n",
    "                            .apply(lambda row: row.hp_code if not pd.isnull(row.hp_code) else row.mesh_code, axis = 1))\n",
    "           )"
   ]
  },
  {
   "cell_type": "code",
   "execution_count": 16,
   "metadata": {
    "scrolled": true
   },
   "outputs": [
    {
     "data": {
      "text/html": [
       "<div>\n",
       "<table border=\"1\" class=\"dataframe\">\n",
       "  <thead>\n",
       "    <tr style=\"text-align: right;\">\n",
       "      <th></th>\n",
       "      <th>doid_code</th>\n",
       "      <th>doid_name</th>\n",
       "      <th>mesh_code</th>\n",
       "      <th>mesh_term</th>\n",
       "      <th>cooccurrence</th>\n",
       "      <th>expected</th>\n",
       "      <th>enrichment</th>\n",
       "      <th>odds_ratio</th>\n",
       "      <th>p_fisher</th>\n",
       "      <th>hp_code</th>\n",
       "      <th>hp_term</th>\n",
       "      <th>symptom_id</th>\n",
       "    </tr>\n",
       "  </thead>\n",
       "  <tbody>\n",
       "    <tr>\n",
       "      <th>0</th>\n",
       "      <td>DOID:10652</td>\n",
       "      <td>Alzheimer's disease</td>\n",
       "      <td>MESH:D004314</td>\n",
       "      <td>Down Syndrome</td>\n",
       "      <td>800</td>\n",
       "      <td>35.619601</td>\n",
       "      <td>22.459544</td>\n",
       "      <td>39.918352</td>\n",
       "      <td>0.000000e+00</td>\n",
       "      <td>NaN</td>\n",
       "      <td>NaN</td>\n",
       "      <td>MESH:D004314</td>\n",
       "    </tr>\n",
       "    <tr>\n",
       "      <th>1</th>\n",
       "      <td>DOID:10652</td>\n",
       "      <td>Alzheimer's disease</td>\n",
       "      <td>MESH:D008569</td>\n",
       "      <td>Memory Disorders</td>\n",
       "      <td>1593</td>\n",
       "      <td>76.580532</td>\n",
       "      <td>20.801631</td>\n",
       "      <td>41.885877</td>\n",
       "      <td>0.000000e+00</td>\n",
       "      <td>HP:0002354</td>\n",
       "      <td>Memory impairment</td>\n",
       "      <td>HP:0002354</td>\n",
       "    </tr>\n",
       "    <tr>\n",
       "      <th>2</th>\n",
       "      <td>DOID:10652</td>\n",
       "      <td>Alzheimer's disease</td>\n",
       "      <td>MESH:D011595</td>\n",
       "      <td>Psychomotor Agitation</td>\n",
       "      <td>334</td>\n",
       "      <td>15.235665</td>\n",
       "      <td>21.922247</td>\n",
       "      <td>35.277329</td>\n",
       "      <td>0.000000e+00</td>\n",
       "      <td>NaN</td>\n",
       "      <td>NaN</td>\n",
       "      <td>MESH:D011595</td>\n",
       "    </tr>\n",
       "    <tr>\n",
       "      <th>3</th>\n",
       "      <td>DOID:10652</td>\n",
       "      <td>Alzheimer's disease</td>\n",
       "      <td>MESH:D000647</td>\n",
       "      <td>Amnesia</td>\n",
       "      <td>307</td>\n",
       "      <td>14.061215</td>\n",
       "      <td>21.833106</td>\n",
       "      <td>34.890099</td>\n",
       "      <td>4.277452e-314</td>\n",
       "      <td>NaN</td>\n",
       "      <td>NaN</td>\n",
       "      <td>MESH:D000647</td>\n",
       "    </tr>\n",
       "    <tr>\n",
       "      <th>4</th>\n",
       "      <td>DOID:10652</td>\n",
       "      <td>Alzheimer's disease</td>\n",
       "      <td>MESH:D006816</td>\n",
       "      <td>Huntington Disease</td>\n",
       "      <td>255</td>\n",
       "      <td>12.130614</td>\n",
       "      <td>21.021195</td>\n",
       "      <td>32.630035</td>\n",
       "      <td>8.215868e-256</td>\n",
       "      <td>NaN</td>\n",
       "      <td>NaN</td>\n",
       "      <td>MESH:D006816</td>\n",
       "    </tr>\n",
       "  </tbody>\n",
       "</table>\n",
       "</div>"
      ],
      "text/plain": [
       "    doid_code            doid_name     mesh_code              mesh_term  \\\n",
       "0  DOID:10652  Alzheimer's disease  MESH:D004314          Down Syndrome   \n",
       "1  DOID:10652  Alzheimer's disease  MESH:D008569       Memory Disorders   \n",
       "2  DOID:10652  Alzheimer's disease  MESH:D011595  Psychomotor Agitation   \n",
       "3  DOID:10652  Alzheimer's disease  MESH:D000647                Amnesia   \n",
       "4  DOID:10652  Alzheimer's disease  MESH:D006816     Huntington Disease   \n",
       "\n",
       "   cooccurrence   expected  enrichment  odds_ratio       p_fisher     hp_code  \\\n",
       "0           800  35.619601   22.459544   39.918352   0.000000e+00         NaN   \n",
       "1          1593  76.580532   20.801631   41.885877   0.000000e+00  HP:0002354   \n",
       "2           334  15.235665   21.922247   35.277329   0.000000e+00         NaN   \n",
       "3           307  14.061215   21.833106   34.890099  4.277452e-314         NaN   \n",
       "4           255  12.130614   21.021195   32.630035  8.215868e-256         NaN   \n",
       "\n",
       "             hp_term    symptom_id  \n",
       "0                NaN  MESH:D004314  \n",
       "1  Memory impairment    HP:0002354  \n",
       "2                NaN  MESH:D011595  \n",
       "3                NaN  MESH:D000647  \n",
       "4                NaN  MESH:D006816  "
      ]
     },
     "execution_count": 16,
     "metadata": {},
     "output_type": "execute_result"
    }
   ],
   "source": [
    "edges_df.head()"
   ]
  },
  {
   "cell_type": "code",
   "execution_count": 17,
   "metadata": {
    "collapsed": true
   },
   "outputs": [],
   "source": [
    "edges_df = (edges_df\n",
    "               .assign(symptom_name =\n",
    "                           edges_df[['mesh_term', 'hp_term']]\n",
    "                               .apply(lambda row: row.hp_term if not pd.isnull(row.hp_term) else row.mesh_term, axis = 1)\n",
    "                      )\n",
    "           )"
   ]
  },
  {
   "cell_type": "code",
   "execution_count": 18,
   "metadata": {},
   "outputs": [
    {
     "data": {
      "text/html": [
       "<div>\n",
       "<table border=\"1\" class=\"dataframe\">\n",
       "  <thead>\n",
       "    <tr style=\"text-align: right;\">\n",
       "      <th></th>\n",
       "      <th>doid_code</th>\n",
       "      <th>doid_name</th>\n",
       "      <th>mesh_code</th>\n",
       "      <th>mesh_term</th>\n",
       "      <th>cooccurrence</th>\n",
       "      <th>expected</th>\n",
       "      <th>enrichment</th>\n",
       "      <th>odds_ratio</th>\n",
       "      <th>p_fisher</th>\n",
       "      <th>hp_code</th>\n",
       "      <th>hp_term</th>\n",
       "      <th>symptom_id</th>\n",
       "      <th>symptom_name</th>\n",
       "    </tr>\n",
       "  </thead>\n",
       "  <tbody>\n",
       "    <tr>\n",
       "      <th>0</th>\n",
       "      <td>DOID:10652</td>\n",
       "      <td>Alzheimer's disease</td>\n",
       "      <td>MESH:D004314</td>\n",
       "      <td>Down Syndrome</td>\n",
       "      <td>800</td>\n",
       "      <td>35.619601</td>\n",
       "      <td>22.459544</td>\n",
       "      <td>39.918352</td>\n",
       "      <td>0.000000e+00</td>\n",
       "      <td>NaN</td>\n",
       "      <td>NaN</td>\n",
       "      <td>MESH:D004314</td>\n",
       "      <td>Down Syndrome</td>\n",
       "    </tr>\n",
       "    <tr>\n",
       "      <th>1</th>\n",
       "      <td>DOID:10652</td>\n",
       "      <td>Alzheimer's disease</td>\n",
       "      <td>MESH:D008569</td>\n",
       "      <td>Memory Disorders</td>\n",
       "      <td>1593</td>\n",
       "      <td>76.580532</td>\n",
       "      <td>20.801631</td>\n",
       "      <td>41.885877</td>\n",
       "      <td>0.000000e+00</td>\n",
       "      <td>HP:0002354</td>\n",
       "      <td>Memory impairment</td>\n",
       "      <td>HP:0002354</td>\n",
       "      <td>Memory impairment</td>\n",
       "    </tr>\n",
       "    <tr>\n",
       "      <th>2</th>\n",
       "      <td>DOID:10652</td>\n",
       "      <td>Alzheimer's disease</td>\n",
       "      <td>MESH:D011595</td>\n",
       "      <td>Psychomotor Agitation</td>\n",
       "      <td>334</td>\n",
       "      <td>15.235665</td>\n",
       "      <td>21.922247</td>\n",
       "      <td>35.277329</td>\n",
       "      <td>0.000000e+00</td>\n",
       "      <td>NaN</td>\n",
       "      <td>NaN</td>\n",
       "      <td>MESH:D011595</td>\n",
       "      <td>Psychomotor Agitation</td>\n",
       "    </tr>\n",
       "    <tr>\n",
       "      <th>3</th>\n",
       "      <td>DOID:10652</td>\n",
       "      <td>Alzheimer's disease</td>\n",
       "      <td>MESH:D000647</td>\n",
       "      <td>Amnesia</td>\n",
       "      <td>307</td>\n",
       "      <td>14.061215</td>\n",
       "      <td>21.833106</td>\n",
       "      <td>34.890099</td>\n",
       "      <td>4.277452e-314</td>\n",
       "      <td>NaN</td>\n",
       "      <td>NaN</td>\n",
       "      <td>MESH:D000647</td>\n",
       "      <td>Amnesia</td>\n",
       "    </tr>\n",
       "    <tr>\n",
       "      <th>4</th>\n",
       "      <td>DOID:10652</td>\n",
       "      <td>Alzheimer's disease</td>\n",
       "      <td>MESH:D006816</td>\n",
       "      <td>Huntington Disease</td>\n",
       "      <td>255</td>\n",
       "      <td>12.130614</td>\n",
       "      <td>21.021195</td>\n",
       "      <td>32.630035</td>\n",
       "      <td>8.215868e-256</td>\n",
       "      <td>NaN</td>\n",
       "      <td>NaN</td>\n",
       "      <td>MESH:D006816</td>\n",
       "      <td>Huntington Disease</td>\n",
       "    </tr>\n",
       "  </tbody>\n",
       "</table>\n",
       "</div>"
      ],
      "text/plain": [
       "    doid_code            doid_name     mesh_code              mesh_term  \\\n",
       "0  DOID:10652  Alzheimer's disease  MESH:D004314          Down Syndrome   \n",
       "1  DOID:10652  Alzheimer's disease  MESH:D008569       Memory Disorders   \n",
       "2  DOID:10652  Alzheimer's disease  MESH:D011595  Psychomotor Agitation   \n",
       "3  DOID:10652  Alzheimer's disease  MESH:D000647                Amnesia   \n",
       "4  DOID:10652  Alzheimer's disease  MESH:D006816     Huntington Disease   \n",
       "\n",
       "   cooccurrence   expected  enrichment  odds_ratio       p_fisher     hp_code  \\\n",
       "0           800  35.619601   22.459544   39.918352   0.000000e+00         NaN   \n",
       "1          1593  76.580532   20.801631   41.885877   0.000000e+00  HP:0002354   \n",
       "2           334  15.235665   21.922247   35.277329   0.000000e+00         NaN   \n",
       "3           307  14.061215   21.833106   34.890099  4.277452e-314         NaN   \n",
       "4           255  12.130614   21.021195   32.630035  8.215868e-256         NaN   \n",
       "\n",
       "             hp_term    symptom_id           symptom_name  \n",
       "0                NaN  MESH:D004314          Down Syndrome  \n",
       "1  Memory impairment    HP:0002354      Memory impairment  \n",
       "2                NaN  MESH:D011595  Psychomotor Agitation  \n",
       "3                NaN  MESH:D000647                Amnesia  \n",
       "4                NaN  MESH:D006816     Huntington Disease  "
      ]
     },
     "execution_count": 18,
     "metadata": {},
     "output_type": "execute_result"
    }
   ],
   "source": [
    "edges_df.head()"
   ]
  },
  {
   "cell_type": "code",
   "execution_count": 19,
   "metadata": {
    "collapsed": true
   },
   "outputs": [],
   "source": [
    "edges_df = (\n",
    "    edges_df\n",
    "    [['doid_code', 'doid_name', 'symptom_id', \n",
    "      'symptom_name', 'cooccurrence', 'expected', \n",
    "      'enrichment', 'odds_ratio', 'p_fisher']]\n",
    "           )"
   ]
  },
  {
   "cell_type": "code",
   "execution_count": 20,
   "metadata": {},
   "outputs": [
    {
     "data": {
      "text/html": [
       "<div>\n",
       "<table border=\"1\" class=\"dataframe\">\n",
       "  <thead>\n",
       "    <tr style=\"text-align: right;\">\n",
       "      <th></th>\n",
       "      <th>doid_code</th>\n",
       "      <th>doid_name</th>\n",
       "      <th>symptom_id</th>\n",
       "      <th>symptom_name</th>\n",
       "      <th>cooccurrence</th>\n",
       "      <th>expected</th>\n",
       "      <th>enrichment</th>\n",
       "      <th>odds_ratio</th>\n",
       "      <th>p_fisher</th>\n",
       "    </tr>\n",
       "  </thead>\n",
       "  <tbody>\n",
       "    <tr>\n",
       "      <th>0</th>\n",
       "      <td>DOID:10652</td>\n",
       "      <td>Alzheimer's disease</td>\n",
       "      <td>MESH:D004314</td>\n",
       "      <td>Down Syndrome</td>\n",
       "      <td>800</td>\n",
       "      <td>35.619601</td>\n",
       "      <td>22.459544</td>\n",
       "      <td>39.918352</td>\n",
       "      <td>0.000000e+00</td>\n",
       "    </tr>\n",
       "    <tr>\n",
       "      <th>1</th>\n",
       "      <td>DOID:10652</td>\n",
       "      <td>Alzheimer's disease</td>\n",
       "      <td>HP:0002354</td>\n",
       "      <td>Memory impairment</td>\n",
       "      <td>1593</td>\n",
       "      <td>76.580532</td>\n",
       "      <td>20.801631</td>\n",
       "      <td>41.885877</td>\n",
       "      <td>0.000000e+00</td>\n",
       "    </tr>\n",
       "    <tr>\n",
       "      <th>2</th>\n",
       "      <td>DOID:10652</td>\n",
       "      <td>Alzheimer's disease</td>\n",
       "      <td>MESH:D011595</td>\n",
       "      <td>Psychomotor Agitation</td>\n",
       "      <td>334</td>\n",
       "      <td>15.235665</td>\n",
       "      <td>21.922247</td>\n",
       "      <td>35.277329</td>\n",
       "      <td>0.000000e+00</td>\n",
       "    </tr>\n",
       "    <tr>\n",
       "      <th>3</th>\n",
       "      <td>DOID:10652</td>\n",
       "      <td>Alzheimer's disease</td>\n",
       "      <td>MESH:D000647</td>\n",
       "      <td>Amnesia</td>\n",
       "      <td>307</td>\n",
       "      <td>14.061215</td>\n",
       "      <td>21.833106</td>\n",
       "      <td>34.890099</td>\n",
       "      <td>4.277452e-314</td>\n",
       "    </tr>\n",
       "    <tr>\n",
       "      <th>4</th>\n",
       "      <td>DOID:10652</td>\n",
       "      <td>Alzheimer's disease</td>\n",
       "      <td>MESH:D006816</td>\n",
       "      <td>Huntington Disease</td>\n",
       "      <td>255</td>\n",
       "      <td>12.130614</td>\n",
       "      <td>21.021195</td>\n",
       "      <td>32.630035</td>\n",
       "      <td>8.215868e-256</td>\n",
       "    </tr>\n",
       "  </tbody>\n",
       "</table>\n",
       "</div>"
      ],
      "text/plain": [
       "    doid_code            doid_name    symptom_id           symptom_name  \\\n",
       "0  DOID:10652  Alzheimer's disease  MESH:D004314          Down Syndrome   \n",
       "1  DOID:10652  Alzheimer's disease    HP:0002354      Memory impairment   \n",
       "2  DOID:10652  Alzheimer's disease  MESH:D011595  Psychomotor Agitation   \n",
       "3  DOID:10652  Alzheimer's disease  MESH:D000647                Amnesia   \n",
       "4  DOID:10652  Alzheimer's disease  MESH:D006816     Huntington Disease   \n",
       "\n",
       "   cooccurrence   expected  enrichment  odds_ratio       p_fisher  \n",
       "0           800  35.619601   22.459544   39.918352   0.000000e+00  \n",
       "1          1593  76.580532   20.801631   41.885877   0.000000e+00  \n",
       "2           334  15.235665   21.922247   35.277329   0.000000e+00  \n",
       "3           307  14.061215   21.833106   34.890099  4.277452e-314  \n",
       "4           255  12.130614   21.021195   32.630035  8.215868e-256  "
      ]
     },
     "execution_count": 20,
     "metadata": {},
     "output_type": "execute_result"
    }
   ],
   "source": [
    "edges_df.head()"
   ]
  },
  {
   "cell_type": "code",
   "execution_count": 21,
   "metadata": {
    "collapsed": true
   },
   "outputs": [],
   "source": [
    "# save\n",
    "edges_df.to_csv('data/medline_edges.tsv', sep='\\t', index=False, header=True)"
   ]
  },
  {
   "cell_type": "code",
   "execution_count": 22,
   "metadata": {},
   "outputs": [
    {
     "data": {
      "text/plain": [
       "(133, 521)"
      ]
     },
     "execution_count": 22,
     "metadata": {},
     "output_type": "execute_result"
    }
   ],
   "source": [
    "edges_df.doid_code.nunique(), edges_df.symptom_id.nunique()"
   ]
  }
 ],
 "metadata": {
  "kernelspec": {
   "display_name": "Python 3",
   "language": "python",
   "name": "python3"
  },
  "language_info": {
   "codemirror_mode": {
    "name": "ipython",
    "version": 3
   },
   "file_extension": ".py",
   "mimetype": "text/x-python",
   "name": "python",
   "nbconvert_exporter": "python",
   "pygments_lexer": "ipython3",
   "version": "3.5.3"
  }
 },
 "nbformat": 4,
 "nbformat_minor": 2
}
