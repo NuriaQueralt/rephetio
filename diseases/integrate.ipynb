{
 "cells": [
  {
   "cell_type": "code",
   "execution_count": 69,
   "metadata": {
    "collapsed": true
   },
   "outputs": [],
   "source": [
    "import pandas as pd"
   ]
  },
  {
   "cell_type": "markdown",
   "metadata": {},
   "source": [
    "### Get list of disease nodes"
   ]
  },
  {
   "cell_type": "code",
   "execution_count": 70,
   "metadata": {},
   "outputs": [
    {
     "data": {
      "text/html": [
       "<div>\n",
       "<table border=\"1\" class=\"dataframe\">\n",
       "  <thead>\n",
       "    <tr style=\"text-align: right;\">\n",
       "      <th></th>\n",
       "      <th>doid</th>\n",
       "      <th>name</th>\n",
       "      <th>source</th>\n",
       "      <th>pathophysiology</th>\n",
       "    </tr>\n",
       "  </thead>\n",
       "  <tbody>\n",
       "    <tr>\n",
       "      <th>0</th>\n",
       "      <td>DOID:2531</td>\n",
       "      <td>hematologic cancer</td>\n",
       "      <td>DOcancerslim</td>\n",
       "      <td>neoplastic</td>\n",
       "    </tr>\n",
       "    <tr>\n",
       "      <th>1</th>\n",
       "      <td>DOID:1319</td>\n",
       "      <td>brain cancer</td>\n",
       "      <td>DOcancerslim</td>\n",
       "      <td>neoplastic</td>\n",
       "    </tr>\n",
       "  </tbody>\n",
       "</table>\n",
       "</div>"
      ],
      "text/plain": [
       "        doid                name        source pathophysiology\n",
       "0  DOID:2531  hematologic cancer  DOcancerslim      neoplastic\n",
       "1  DOID:1319        brain cancer  DOcancerslim      neoplastic"
      ]
     },
     "execution_count": 70,
     "metadata": {},
     "output_type": "execute_result"
    }
   ],
   "source": [
    "# read list of disease nodes from hetionet\n",
    "commit = '75050ea2d4f60e745d3f3578ae03560a2cc0e444'\n",
    "url = 'https://raw.githubusercontent.com/dhimmel/disease-ontology/' + commit + '/data/slim-terms.tsv'\n",
    "disease_df = pd.read_table(url)\n",
    "disease_df.head(2)"
   ]
  },
  {
   "cell_type": "code",
   "execution_count": 71,
   "metadata": {},
   "outputs": [
    {
     "data": {
      "text/html": [
       "<div>\n",
       "<table border=\"1\" class=\"dataframe\">\n",
       "  <thead>\n",
       "    <tr style=\"text-align: right;\">\n",
       "      <th></th>\n",
       "      <th>orphanet_code</th>\n",
       "      <th>orphanet_term</th>\n",
       "      <th>orphanet_gene_id</th>\n",
       "      <th>gene_orphanumber</th>\n",
       "      <th>gene_name</th>\n",
       "      <th>gene_type</th>\n",
       "      <th>gene_symbol</th>\n",
       "      <th>dga_type</th>\n",
       "      <th>dga_status</th>\n",
       "    </tr>\n",
       "  </thead>\n",
       "  <tbody>\n",
       "    <tr>\n",
       "      <th>0</th>\n",
       "      <td>DOID:0050461</td>\n",
       "      <td>Aspartylglucosaminuria</td>\n",
       "      <td>15470</td>\n",
       "      <td>119513</td>\n",
       "      <td>aspartylglucosaminidase</td>\n",
       "      <td>gene with protein product</td>\n",
       "      <td>AGA</td>\n",
       "      <td>Disease-causing germline mutation(s) in</td>\n",
       "      <td>Assessed</td>\n",
       "    </tr>\n",
       "    <tr>\n",
       "      <th>1</th>\n",
       "      <td>DOID:0050441</td>\n",
       "      <td>Multiple sulfatase deficiency</td>\n",
       "      <td>15570</td>\n",
       "      <td>119899</td>\n",
       "      <td>sulfatase modifying factor 1</td>\n",
       "      <td>gene with protein product</td>\n",
       "      <td>SUMF1</td>\n",
       "      <td>Disease-causing germline mutation(s) in</td>\n",
       "      <td>Assessed</td>\n",
       "    </tr>\n",
       "  </tbody>\n",
       "</table>\n",
       "</div>"
      ],
      "text/plain": [
       "  orphanet_code                  orphanet_term  orphanet_gene_id  \\\n",
       "0  DOID:0050461         Aspartylglucosaminuria             15470   \n",
       "1  DOID:0050441  Multiple sulfatase deficiency             15570   \n",
       "\n",
       "   gene_orphanumber                     gene_name                  gene_type  \\\n",
       "0            119513       aspartylglucosaminidase  gene with protein product   \n",
       "1            119899  sulfatase modifying factor 1  gene with protein product   \n",
       "\n",
       "  gene_symbol                                 dga_type dga_status  \n",
       "0         AGA  Disease-causing germline mutation(s) in   Assessed  \n",
       "1       SUMF1  Disease-causing germline mutation(s) in   Assessed  "
      ]
     },
     "execution_count": 71,
     "metadata": {},
     "output_type": "execute_result"
    }
   ],
   "source": [
    "# add rare diseases from orphadata\n",
    "# read rd from gene annotation\n",
    "url = '/home/nuria/workspace/repurposing/rephetio-su/orphanet/data/orphanet-mondo-disease-gene.tsv'\n",
    "orpha_gene_df = pd.read_table(url)\n",
    "orpha_gene_df.head(2)"
   ]
  },
  {
   "cell_type": "code",
   "execution_count": 72,
   "metadata": {},
   "outputs": [
    {
     "data": {
      "text/html": [
       "<div>\n",
       "<table border=\"1\" class=\"dataframe\">\n",
       "  <thead>\n",
       "    <tr style=\"text-align: right;\">\n",
       "      <th></th>\n",
       "      <th>orphanet_code</th>\n",
       "      <th>orphanet_term</th>\n",
       "      <th>hp_code</th>\n",
       "      <th>hp_term</th>\n",
       "    </tr>\n",
       "  </thead>\n",
       "  <tbody>\n",
       "    <tr>\n",
       "      <th>0</th>\n",
       "      <td>DOID:10923</td>\n",
       "      <td>Sickle cell anemia</td>\n",
       "      <td>HP:0004870</td>\n",
       "      <td>Chronic hemolytic anemia</td>\n",
       "    </tr>\n",
       "    <tr>\n",
       "      <th>1</th>\n",
       "      <td>DOID:10923</td>\n",
       "      <td>Sickle cell anemia</td>\n",
       "      <td>HP:0001878</td>\n",
       "      <td>Hemolytic anemia</td>\n",
       "    </tr>\n",
       "  </tbody>\n",
       "</table>\n",
       "</div>"
      ],
      "text/plain": [
       "  orphanet_code       orphanet_term     hp_code                   hp_term\n",
       "0    DOID:10923  Sickle cell anemia  HP:0004870  Chronic hemolytic anemia\n",
       "1    DOID:10923  Sickle cell anemia  HP:0001878          Hemolytic anemia"
      ]
     },
     "execution_count": 72,
     "metadata": {},
     "output_type": "execute_result"
    }
   ],
   "source": [
    "# read rd from phenotype annotation\n",
    "url = '/home/nuria/workspace/repurposing/rephetio-su/orphanet/data/orphanet-mondo-disease-symptom.tsv'\n",
    "orpha_pheno_df = pd.read_table(url)\n",
    "orpha_pheno_df.head(2)"
   ]
  },
  {
   "cell_type": "code",
   "execution_count": 73,
   "metadata": {},
   "outputs": [
    {
     "name": "stdout",
     "output_type": "stream",
     "text": [
      "#rd: 5062\n"
     ]
    },
    {
     "data": {
      "text/html": [
       "<div>\n",
       "<table border=\"1\" class=\"dataframe\">\n",
       "  <thead>\n",
       "    <tr style=\"text-align: right;\">\n",
       "      <th></th>\n",
       "      <th>doid</th>\n",
       "      <th>name</th>\n",
       "    </tr>\n",
       "  </thead>\n",
       "  <tbody>\n",
       "    <tr>\n",
       "      <th>0</th>\n",
       "      <td>DOID:2531</td>\n",
       "      <td>hematologic cancer</td>\n",
       "    </tr>\n",
       "    <tr>\n",
       "      <th>1</th>\n",
       "      <td>DOID:1319</td>\n",
       "      <td>brain cancer</td>\n",
       "    </tr>\n",
       "  </tbody>\n",
       "</table>\n",
       "</div>"
      ],
      "text/plain": [
       "        doid                name\n",
       "0  DOID:2531  hematologic cancer\n",
       "1  DOID:1319        brain cancer"
      ]
     },
     "execution_count": 73,
     "metadata": {},
     "output_type": "execute_result"
    }
   ],
   "source": [
    "# merge all disease sets\n",
    "hetionet_df = disease_df[['doid', 'name']]\n",
    "rd_gene_df = orpha_gene_df[['orphanet_code', 'orphanet_term']]\n",
    "rd_pheno_df = orpha_pheno_df[['orphanet_code', 'orphanet_term']]\n",
    "rd_gene_df = rd_gene_df.rename(columns={'orphanet_code':'doid', 'orphanet_term':'name'})\n",
    "rd_pheno_df = rd_pheno_df.rename(columns={'orphanet_code':'doid', 'orphanet_term':'name'})\n",
    "rd_gene_df = rd_gene_df.drop_duplicates()\n",
    "rd_pheno_df = rd_pheno_df.drop_duplicates()\n",
    "all_df = pd.concat([hetionet_df,rd_gene_df,rd_pheno_df])\n",
    "rd_df = all_df.drop_duplicates()\n",
    "print('#rd: {}'.format(len(rd_df)))\n",
    "rd_df.head(2)"
   ]
  },
  {
   "cell_type": "code",
   "execution_count": 74,
   "metadata": {
    "collapsed": true
   },
   "outputs": [],
   "source": [
    "rd_df.to_csv('data/diseases.tsv', sep='\\t', index=False, header=True)"
   ]
  },
  {
   "cell_type": "code",
   "execution_count": 75,
   "metadata": {},
   "outputs": [
    {
     "data": {
      "text/plain": [
       "(3569, 2592, 1235)"
      ]
     },
     "execution_count": 75,
     "metadata": {},
     "output_type": "execute_result"
    }
   ],
   "source": [
    "len(rd_gene_df.doid.unique()), len(rd_pheno_df.doid.unique()), len(set(list(rd_gene_df.doid)) & set(list(rd_pheno_df.doid)))"
   ]
  },
  {
   "cell_type": "code",
   "execution_count": 76,
   "metadata": {},
   "outputs": [
    {
     "data": {
      "text/plain": [
       "(137,\n",
       " 3569,\n",
       " 5,\n",
       " {'DOID:0050156', 'DOID:10283', 'DOID:11555', 'DOID:12236', 'DOID:8986'})"
      ]
     },
     "execution_count": 76,
     "metadata": {},
     "output_type": "execute_result"
    }
   ],
   "source": [
    "hetionet = set(list(disease_df.doid))\n",
    "orpha_gene = set(list(rd_gene_df.doid))\n",
    "common = (hetionet & orpha_gene)\n",
    "len(hetionet), len(orpha_gene), len(common), common"
   ]
  },
  {
   "cell_type": "code",
   "execution_count": 77,
   "metadata": {},
   "outputs": [
    {
     "data": {
      "text/plain": [
       "(137,\n",
       " 2592,\n",
       " 6,\n",
       " {'DOID:12236',\n",
       "  'DOID:12365',\n",
       "  'DOID:13378',\n",
       "  'DOID:3277',\n",
       "  'DOID:418',\n",
       "  'DOID:8986'})"
      ]
     },
     "execution_count": 77,
     "metadata": {},
     "output_type": "execute_result"
    }
   ],
   "source": [
    "hetionet = set(list(disease_df.doid))\n",
    "orpha_pheno = set(list(rd_pheno_df.doid))\n",
    "common = (hetionet & orpha_pheno)\n",
    "len(hetionet), len(orpha_pheno), len(common), common"
   ]
  },
  {
   "cell_type": "code",
   "execution_count": 78,
   "metadata": {},
   "outputs": [
    {
     "data": {
      "text/plain": [
       "{'DOID:12236', 'DOID:8986'}"
      ]
     },
     "execution_count": 78,
     "metadata": {},
     "output_type": "execute_result"
    }
   ],
   "source": [
    "common = (hetionet & orpha_gene & orpha_pheno)\n",
    "common"
   ]
  },
  {
   "cell_type": "code",
   "execution_count": null,
   "metadata": {
    "collapsed": true
   },
   "outputs": [],
   "source": []
  },
  {
   "cell_type": "code",
   "execution_count": null,
   "metadata": {
    "collapsed": true
   },
   "outputs": [],
   "source": []
  }
 ],
 "metadata": {
  "kernelspec": {
   "display_name": "Python 3",
   "language": "python",
   "name": "python3"
  },
  "language_info": {
   "codemirror_mode": {
    "name": "ipython",
    "version": 3
   },
   "file_extension": ".py",
   "mimetype": "text/x-python",
   "name": "python",
   "nbconvert_exporter": "python",
   "pygments_lexer": "ipython3",
   "version": "3.5.3"
  }
 },
 "nbformat": 4,
 "nbformat_minor": 2
}
