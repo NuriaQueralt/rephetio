{
 "cells": [
  {
   "cell_type": "code",
   "execution_count": 73,
   "metadata": {
    "collapsed": true
   },
   "outputs": [],
   "source": [
    "import os, sys\n",
    "import pandas as pd\n",
    "from rdflib.graph import Graph"
   ]
  },
  {
   "cell_type": "markdown",
   "metadata": {},
   "source": [
    "# Notebook goal\n",
    "\n",
    "This notebook explores content in the kegg datasets got during bh17 for data integration in hetionet:\n",
    "    - disease-drug.n3\n",
    "    - disease-gene.n3\n",
    "    - disease-gene.n3\n",
    "    "
   ]
  },
  {
   "cell_type": "code",
   "execution_count": 74,
   "metadata": {
    "collapsed": true
   },
   "outputs": [],
   "source": [
    "# path to input and output\n",
    "indir = os.getcwd() + '/data'\n",
    "if not os.path.isdir(indir): os.makedirs(indir)\n",
    "outdir = os.getcwd() + '/out'\n",
    "if not os.path.isdir(outdir): os.makedirs(outdir)\n",
    "    \n",
    "# find data\n",
    "sys.path.insert(0, '.')"
   ]
  },
  {
   "cell_type": "markdown",
   "metadata": {},
   "source": [
    "## Disease-Drug exploration\n",
    "\n",
    "ID Schemes:\n",
    "    - Rephetio: disease [doid DOID:1234]; drug [drugbank DB12345]\n",
    "    - KEGG: disease [ds:H12345]; drug [dr:D12345]"
   ]
  },
  {
   "cell_type": "code",
   "execution_count": 75,
   "metadata": {},
   "outputs": [
    {
     "name": "stdout",
     "output_type": "stream",
     "text": [
      "dimensions: (1584, 2)\n"
     ]
    },
    {
     "data": {
      "text/html": [
       "<div>\n",
       "<style>\n",
       "    .dataframe thead tr:only-child th {\n",
       "        text-align: right;\n",
       "    }\n",
       "\n",
       "    .dataframe thead th {\n",
       "        text-align: left;\n",
       "    }\n",
       "\n",
       "    .dataframe tbody tr th {\n",
       "        vertical-align: top;\n",
       "    }\n",
       "</style>\n",
       "<table border=\"1\" class=\"dataframe\">\n",
       "  <thead>\n",
       "    <tr style=\"text-align: right;\">\n",
       "      <th></th>\n",
       "      <th>disease_keggId</th>\n",
       "      <th>drug_keggId</th>\n",
       "    </tr>\n",
       "  </thead>\n",
       "  <tbody>\n",
       "    <tr>\n",
       "      <th>0</th>\n",
       "      <td>ds:H00284</td>\n",
       "      <td>dr:D00423</td>\n",
       "    </tr>\n",
       "    <tr>\n",
       "      <th>1</th>\n",
       "      <td>ds:H00835</td>\n",
       "      <td>dr:D00535</td>\n",
       "    </tr>\n",
       "  </tbody>\n",
       "</table>\n",
       "</div>"
      ],
      "text/plain": [
       "  disease_keggId drug_keggId\n",
       "0      ds:H00284   dr:D00423\n",
       "1      ds:H00835   dr:D00535"
      ]
     },
     "execution_count": 75,
     "metadata": {},
     "output_type": "execute_result"
    }
   ],
   "source": [
    "g = Graph()\n",
    "g.parse(\"{}/disease_drug.n3\".format(indir), format=\"n3\")\n",
    "\n",
    "# save data in tab format\n",
    "with open('{}/disease_drug.tsv'.format(outdir), 'w') as f:\n",
    "    f.write('disease_keggId\\tdrug_keggId\\n')\n",
    "    for s,p,o in g:\n",
    "        f.write('{}\\t{}\\n'.format(s.rsplit('/',1)[1],o.rsplit('/',1)[1]))\n",
    "        \n",
    "# read dataframe for exploration\n",
    "dsdr_df = pd.read_csv('{}/disease_drug.tsv'.format(outdir), sep='\\t')\n",
    "print('dimensions: {}'.format(dsdr_df.shape))\n",
    "dsdr_df.head(2)"
   ]
  },
  {
   "cell_type": "markdown",
   "metadata": {},
   "source": [
    "## Disease-Gene exploration\n",
    "\n",
    "ID Schemes:\n",
    "    - Rephetio: disease [doid DOID:1234]; gene [entrez id 12345]\n",
    "    - KEGG: disease [ds:H12345]; gene [hsa:123..n]"
   ]
  },
  {
   "cell_type": "code",
   "execution_count": 76,
   "metadata": {},
   "outputs": [
    {
     "name": "stdout",
     "output_type": "stream",
     "text": [
      "dimensions: (5171, 2)\n"
     ]
    },
    {
     "data": {
      "text/html": [
       "<div>\n",
       "<style>\n",
       "    .dataframe thead tr:only-child th {\n",
       "        text-align: right;\n",
       "    }\n",
       "\n",
       "    .dataframe thead th {\n",
       "        text-align: left;\n",
       "    }\n",
       "\n",
       "    .dataframe tbody tr th {\n",
       "        vertical-align: top;\n",
       "    }\n",
       "</style>\n",
       "<table border=\"1\" class=\"dataframe\">\n",
       "  <thead>\n",
       "    <tr style=\"text-align: right;\">\n",
       "      <th></th>\n",
       "      <th>disease_keggId</th>\n",
       "      <th>gene_keggId</th>\n",
       "    </tr>\n",
       "  </thead>\n",
       "  <tbody>\n",
       "    <tr>\n",
       "      <th>0</th>\n",
       "      <td>ds:H00238</td>\n",
       "      <td>hsa:2187</td>\n",
       "    </tr>\n",
       "    <tr>\n",
       "      <th>1</th>\n",
       "      <td>ds:H01367</td>\n",
       "      <td>hsa:55687</td>\n",
       "    </tr>\n",
       "  </tbody>\n",
       "</table>\n",
       "</div>"
      ],
      "text/plain": [
       "  disease_keggId gene_keggId\n",
       "0      ds:H00238    hsa:2187\n",
       "1      ds:H01367   hsa:55687"
      ]
     },
     "execution_count": 76,
     "metadata": {},
     "output_type": "execute_result"
    }
   ],
   "source": [
    "g = Graph()\n",
    "g.parse(\"{}/disease_hsa.n3\".format(indir), format=\"n3\")\n",
    "\n",
    "# save data in tab format\n",
    "with open('{}/disease_hsa.tsv'.format(outdir), 'w') as f:\n",
    "    f.write('disease_keggId\\tgene_keggId\\n')\n",
    "    for s,p,o in g:\n",
    "        f.write('{}\\t{}\\n'.format(s.rsplit('/',1)[1],o.rsplit('/',1)[1]))\n",
    "        \n",
    "# read dataframe for exploration\n",
    "dshsa_df = pd.read_csv('{}/disease_hsa.tsv'.format(outdir), sep='\\t')\n",
    "print('dimensions: {}'.format(dshsa_df.shape))\n",
    "dshsa_df.head(2)"
   ]
  },
  {
   "cell_type": "markdown",
   "metadata": {},
   "source": [
    "## Drug-Gene exploration\n",
    "\n",
    "ID Schemes:\n",
    "    - Rephetio: drug [drugbank DB12345]; gene [entrez id 12345]\n",
    "    - KEGG: drug [dr:D12345]; gene [hsa:123..n]"
   ]
  },
  {
   "cell_type": "code",
   "execution_count": 77,
   "metadata": {},
   "outputs": [
    {
     "name": "stdout",
     "output_type": "stream",
     "text": [
      "dimensions: (9951, 2)\n"
     ]
    },
    {
     "data": {
      "text/html": [
       "<div>\n",
       "<style>\n",
       "    .dataframe thead tr:only-child th {\n",
       "        text-align: right;\n",
       "    }\n",
       "\n",
       "    .dataframe thead th {\n",
       "        text-align: left;\n",
       "    }\n",
       "\n",
       "    .dataframe tbody tr th {\n",
       "        vertical-align: top;\n",
       "    }\n",
       "</style>\n",
       "<table border=\"1\" class=\"dataframe\">\n",
       "  <thead>\n",
       "    <tr style=\"text-align: right;\">\n",
       "      <th></th>\n",
       "      <th>drug_keggId</th>\n",
       "      <th>gene_keggId</th>\n",
       "    </tr>\n",
       "  </thead>\n",
       "  <tbody>\n",
       "    <tr>\n",
       "      <th>0</th>\n",
       "      <td>dr:D03781</td>\n",
       "      <td>hsa:1588</td>\n",
       "    </tr>\n",
       "    <tr>\n",
       "      <th>1</th>\n",
       "      <td>dr:D00720</td>\n",
       "      <td>hsa:1131</td>\n",
       "    </tr>\n",
       "  </tbody>\n",
       "</table>\n",
       "</div>"
      ],
      "text/plain": [
       "  drug_keggId gene_keggId\n",
       "0   dr:D03781    hsa:1588\n",
       "1   dr:D00720    hsa:1131"
      ]
     },
     "execution_count": 77,
     "metadata": {},
     "output_type": "execute_result"
    }
   ],
   "source": [
    "g = Graph()\n",
    "g.parse(\"{}/drug_hsa.n3\".format(indir), format=\"n3\")\n",
    "\n",
    "# save data in tab format\n",
    "with open('{}/drug_hsa.tsv'.format(outdir), 'w') as f:\n",
    "    f.write('drug_keggId\\tgene_keggId\\n')\n",
    "    for s,p,o in g:\n",
    "        f.write('{}\\t{}\\n'.format(s.rsplit('/',1)[1],o.rsplit('/',1)[1]))\n",
    "        \n",
    "# read dataframe for exploration\n",
    "drhsa_df = pd.read_csv('{}/drug_hsa.tsv'.format(outdir), sep='\\t')\n",
    "print('dimensions: {}'.format(drhsa_df.shape))\n",
    "drhsa_df.head(2)"
   ]
  },
  {
   "cell_type": "markdown",
   "metadata": {},
   "source": [
    "## Mapping KEGG IDs to Rephetio ID scheme\n",
    "KEGG Medicus: http://www.genome.jp/kegg/medicus.html\n",
    "    \n",
    "       - drug: KEGG ID (KEGG MEDICUS - DRUG)\n",
    "       - disease: KEGG ID (KEGG MEDICUS - DISEASE)\n",
    "       - gene: not necessary (KEGG uses usually NCBI GeneID or INSDC Locus_tag [http://www.kegg.jp/kegg/docs/weblink.html])"
   ]
  },
  {
   "cell_type": "markdown",
   "metadata": {
    "collapsed": true
   },
   "source": [
    "## Comparing KEGG and Hetionet v1.0 datasets\n",
    "| Edges | KEGG | HETIONET | HETIONET SOURCES |\n",
    "|:------|-----|----------|------------------:|\n",
    "| Disease-Drug | 1584 | 755 | [MEDI-HPS, LabeledIn, ehrlink, PREDICT] |\n",
    "| Disease-Gene | 5171 | 12600 | [DISEASES, DOAF, DisGeNET, GWAS] |\n",
    "| Drug-Gene | 9951 | 24600 | [DrugCentral, BindingDB, DrugBank] |\n"
   ]
  }
 ],
 "metadata": {
  "kernelspec": {
   "display_name": "Python 3",
   "language": "python",
   "name": "python3"
  },
  "language_info": {
   "codemirror_mode": {
    "name": "ipython",
    "version": 3
   },
   "file_extension": ".py",
   "mimetype": "text/x-python",
   "name": "python",
   "nbconvert_exporter": "python",
   "pygments_lexer": "ipython3",
   "version": "3.6.1"
  }
 },
 "nbformat": 4,
 "nbformat_minor": 2
}
