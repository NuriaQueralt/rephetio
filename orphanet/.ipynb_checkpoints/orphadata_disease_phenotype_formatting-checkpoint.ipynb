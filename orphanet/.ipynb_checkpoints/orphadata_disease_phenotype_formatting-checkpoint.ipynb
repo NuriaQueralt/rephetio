{
 "cells": [
  {
   "cell_type": "code",
   "execution_count": 1,
   "metadata": {
    "collapsed": true
   },
   "outputs": [],
   "source": [
    "import pandas as pd"
   ]
  },
  {
   "cell_type": "markdown",
   "metadata": {},
   "source": [
    "## Format orphadata (DO-HP) to integrate notebook format"
   ]
  },
  {
   "cell_type": "code",
   "execution_count": 2,
   "metadata": {},
   "outputs": [
    {
     "data": {
      "text/html": [
       "<div>\n",
       "<table border=\"1\" class=\"dataframe\">\n",
       "  <thead>\n",
       "    <tr style=\"text-align: right;\">\n",
       "      <th></th>\n",
       "      <th>orphanet_code</th>\n",
       "      <th>mondo_do:orphanet_cardinality</th>\n",
       "      <th>mondo_do_mapping</th>\n",
       "      <th>orphanet_term</th>\n",
       "      <th>hp_code</th>\n",
       "      <th>hp_term</th>\n",
       "    </tr>\n",
       "  </thead>\n",
       "  <tbody>\n",
       "    <tr>\n",
       "      <th>0</th>\n",
       "      <td>Orphanet:232</td>\n",
       "      <td>1:1</td>\n",
       "      <td>DOID:10923</td>\n",
       "      <td>Sickle cell anemia</td>\n",
       "      <td>HP:0004870</td>\n",
       "      <td>Chronic hemolytic anemia</td>\n",
       "    </tr>\n",
       "    <tr>\n",
       "      <th>1</th>\n",
       "      <td>Orphanet:232</td>\n",
       "      <td>1:1</td>\n",
       "      <td>DOID:10923</td>\n",
       "      <td>Sickle cell anemia</td>\n",
       "      <td>HP:0001878</td>\n",
       "      <td>Hemolytic anemia</td>\n",
       "    </tr>\n",
       "  </tbody>\n",
       "</table>\n",
       "</div>"
      ],
      "text/plain": [
       "  orphanet_code mondo_do:orphanet_cardinality mondo_do_mapping  \\\n",
       "0  Orphanet:232                           1:1       DOID:10923   \n",
       "1  Orphanet:232                           1:1       DOID:10923   \n",
       "\n",
       "        orphanet_term     hp_code                   hp_term  \n",
       "0  Sickle cell anemia  HP:0004870  Chronic hemolytic anemia  \n",
       "1  Sickle cell anemia  HP:0001878          Hemolytic anemia  "
      ]
     },
     "execution_count": 2,
     "metadata": {},
     "output_type": "execute_result"
    }
   ],
   "source": [
    "# read disease-phenotype\n",
    "orpha_df = pd.read_table('/home/nuria/workspace/repurposing/rephetio-su/orphanet/data/orphanet-mondo-doid_orphanum-hp.tsv')\n",
    "orpha_df.head(2)"
   ]
  },
  {
   "cell_type": "code",
   "execution_count": 3,
   "metadata": {},
   "outputs": [
    {
     "data": {
      "text/html": [
       "<div>\n",
       "<table border=\"1\" class=\"dataframe\">\n",
       "  <thead>\n",
       "    <tr style=\"text-align: right;\">\n",
       "      <th></th>\n",
       "      <th>orphanet_code</th>\n",
       "      <th>orphanet_term</th>\n",
       "      <th>hp_code</th>\n",
       "      <th>hp_term</th>\n",
       "    </tr>\n",
       "  </thead>\n",
       "  <tbody>\n",
       "    <tr>\n",
       "      <th>0</th>\n",
       "      <td>DOID:10923</td>\n",
       "      <td>Sickle cell anemia</td>\n",
       "      <td>HP:0004870</td>\n",
       "      <td>Chronic hemolytic anemia</td>\n",
       "    </tr>\n",
       "    <tr>\n",
       "      <th>1</th>\n",
       "      <td>DOID:10923</td>\n",
       "      <td>Sickle cell anemia</td>\n",
       "      <td>HP:0001878</td>\n",
       "      <td>Hemolytic anemia</td>\n",
       "    </tr>\n",
       "  </tbody>\n",
       "</table>\n",
       "</div>"
      ],
      "text/plain": [
       "  orphanet_code       orphanet_term     hp_code                   hp_term\n",
       "0    DOID:10923  Sickle cell anemia  HP:0004870  Chronic hemolytic anemia\n",
       "1    DOID:10923  Sickle cell anemia  HP:0001878          Hemolytic anemia"
      ]
     },
     "execution_count": 3,
     "metadata": {},
     "output_type": "execute_result"
    }
   ],
   "source": [
    "# format to integrate to hetionet\n",
    "hetio_df = orpha_df[['mondo_do_mapping', 'orphanet_term', 'hp_code', 'hp_term']]\n",
    "hetio_df = hetio_df.rename(columns={'mondo_do_mapping':'orphanet_code'})\n",
    "hetio_df.head(2)"
   ]
  },
  {
   "cell_type": "code",
   "execution_count": 4,
   "metadata": {
    "collapsed": true
   },
   "outputs": [],
   "source": [
    "# save to tab file\n",
    "hetio_df.to_csv('/home/nuria/workspace/repurposing/rephetio-su/orphanet/data/orphanet-mondo-disease-symptom.tsv',  sep='\\t', index=False, header=True)"
   ]
  },
  {
   "cell_type": "markdown",
   "metadata": {},
   "source": [
    "## Map DO to DO-Slim (hetionet)"
   ]
  },
  {
   "cell_type": "code",
   "execution_count": null,
   "metadata": {
    "collapsed": true
   },
   "outputs": [],
   "source": []
  },
  {
   "cell_type": "code",
   "execution_count": null,
   "metadata": {
    "collapsed": true
   },
   "outputs": [],
   "source": []
  }
 ],
 "metadata": {
  "kernelspec": {
   "display_name": "Python 3",
   "language": "python",
   "name": "python3"
  },
  "language_info": {
   "codemirror_mode": {
    "name": "ipython",
    "version": 3
   },
   "file_extension": ".py",
   "mimetype": "text/x-python",
   "name": "python",
   "nbconvert_exporter": "python",
   "pygments_lexer": "ipython3",
   "version": "3.5.3"
  }
 },
 "nbformat": 4,
 "nbformat_minor": 2
}
