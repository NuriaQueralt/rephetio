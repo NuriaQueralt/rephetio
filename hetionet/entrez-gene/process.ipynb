{
 "cells": [
  {
   "cell_type": "code",
   "execution_count": 5,
   "metadata": {
    "collapsed": true
   },
   "outputs": [],
   "source": [
    "import os\n",
    "import gzip\n",
    "import re\n",
    "import json\n",
    "\n",
    "import pandas"
   ]
  },
  {
   "cell_type": "code",
   "execution_count": null,
   "metadata": {
    "collapsed": true
   },
   "outputs": [],
   "source": [
    "# # Download human entrez gene information\n",
    "# url = 'ftp://ftp.ncbi.nih.gov/gene/DATA/GENE_INFO/Mammalia/Homo_sapiens.gene_info.gz'\n",
    "# ! wget --timestamping --directory-prefix download/ $url\n",
    "# Provenance:  May 03, 2017"
   ]
  },
  {
   "cell_type": "code",
   "execution_count": 4,
   "metadata": {},
   "outputs": [
    {
     "data": {
      "text/html": [
       "<div>\n",
       "<table border=\"1\" class=\"dataframe\">\n",
       "  <thead>\n",
       "    <tr style=\"text-align: right;\">\n",
       "      <th></th>\n",
       "      <th>#tax_id</th>\n",
       "      <th>GeneID</th>\n",
       "      <th>Symbol</th>\n",
       "      <th>LocusTag</th>\n",
       "      <th>Synonyms</th>\n",
       "      <th>dbXrefs</th>\n",
       "      <th>chromosome</th>\n",
       "      <th>map_location</th>\n",
       "      <th>description</th>\n",
       "      <th>type_of_gene</th>\n",
       "      <th>Symbol_from_nomenclature_authority</th>\n",
       "      <th>Full_name_from_nomenclature_authority</th>\n",
       "      <th>Nomenclature_status</th>\n",
       "      <th>Other_designations</th>\n",
       "      <th>Modification_date</th>\n",
       "    </tr>\n",
       "  </thead>\n",
       "  <tbody>\n",
       "    <tr>\n",
       "      <th>0</th>\n",
       "      <td>9606</td>\n",
       "      <td>1</td>\n",
       "      <td>A1BG</td>\n",
       "      <td>-</td>\n",
       "      <td>A1B|ABG|GAB|HYST2477</td>\n",
       "      <td>MIM:138670|HGNC:HGNC:5|Ensembl:ENSG00000121410...</td>\n",
       "      <td>19</td>\n",
       "      <td>19q13.43</td>\n",
       "      <td>alpha-1-B glycoprotein</td>\n",
       "      <td>protein-coding</td>\n",
       "      <td>A1BG</td>\n",
       "      <td>alpha-1-B glycoprotein</td>\n",
       "      <td>O</td>\n",
       "      <td>alpha-1B-glycoprotein|HEL-S-163pA|epididymis s...</td>\n",
       "      <td>20170422</td>\n",
       "    </tr>\n",
       "    <tr>\n",
       "      <th>1</th>\n",
       "      <td>9606</td>\n",
       "      <td>2</td>\n",
       "      <td>A2M</td>\n",
       "      <td>-</td>\n",
       "      <td>A2MD|CPAMD5|FWP007|S863-7</td>\n",
       "      <td>MIM:103950|HGNC:HGNC:7|Ensembl:ENSG00000175899...</td>\n",
       "      <td>12</td>\n",
       "      <td>12p13.31</td>\n",
       "      <td>alpha-2-macroglobulin</td>\n",
       "      <td>protein-coding</td>\n",
       "      <td>A2M</td>\n",
       "      <td>alpha-2-macroglobulin</td>\n",
       "      <td>O</td>\n",
       "      <td>alpha-2-macroglobulin|C3 and PZP-like alpha-2-...</td>\n",
       "      <td>20170423</td>\n",
       "    </tr>\n",
       "  </tbody>\n",
       "</table>\n",
       "</div>"
      ],
      "text/plain": [
       "   #tax_id  GeneID Symbol LocusTag                   Synonyms  \\\n",
       "0     9606       1   A1BG        -       A1B|ABG|GAB|HYST2477   \n",
       "1     9606       2    A2M        -  A2MD|CPAMD5|FWP007|S863-7   \n",
       "\n",
       "                                             dbXrefs chromosome map_location  \\\n",
       "0  MIM:138670|HGNC:HGNC:5|Ensembl:ENSG00000121410...         19     19q13.43   \n",
       "1  MIM:103950|HGNC:HGNC:7|Ensembl:ENSG00000175899...         12     12p13.31   \n",
       "\n",
       "              description    type_of_gene Symbol_from_nomenclature_authority  \\\n",
       "0  alpha-1-B glycoprotein  protein-coding                               A1BG   \n",
       "1   alpha-2-macroglobulin  protein-coding                                A2M   \n",
       "\n",
       "  Full_name_from_nomenclature_authority Nomenclature_status  \\\n",
       "0                alpha-1-B glycoprotein                   O   \n",
       "1                 alpha-2-macroglobulin                   O   \n",
       "\n",
       "                                  Other_designations  Modification_date  \n",
       "0  alpha-1B-glycoprotein|HEL-S-163pA|epididymis s...           20170422  \n",
       "1  alpha-2-macroglobulin|C3 and PZP-like alpha-2-...           20170423  "
      ]
     },
     "execution_count": 4,
     "metadata": {},
     "output_type": "execute_result"
    }
   ],
   "source": [
    "path = os.path.join('download', 'Homo_sapiens.gene_info.gz')\n",
    "\n",
    "jj = pandas.read_table(gzip.open(path, 'rt'))\n",
    "jj.head(2)"
   ]
  },
  {
   "cell_type": "code",
   "execution_count": 17,
   "metadata": {},
   "outputs": [
    {
     "data": {
      "text/plain": [
       "60304"
      ]
     },
     "execution_count": 17,
     "metadata": {},
     "output_type": "execute_result"
    }
   ],
   "source": [
    "# Read Entrez info dataset\n",
    "path = os.path.join('download', 'Homo_sapiens.gene_info.gz')\n",
    "\n",
    "with gzip.open(path, 'rt') as read_file:\n",
    "    matches = re.match(r'#(.+)', next(read_file))\n",
    "    #matches = re.match(r'#Format: (.+) \\(', next(read_file))\n",
    "    columns = matches.group(1).split('\\t')\n",
    "    gene_df = pandas.read_table(read_file, names = columns, na_values=['-'])\n",
    "\n",
    "# Restrict to homo sapiens\n",
    "gene_df = gene_df.query('tax_id == 9606')\n",
    "\n",
    "len(gene_df)"
   ]
  },
  {
   "cell_type": "code",
   "execution_count": 19,
   "metadata": {
    "collapsed": true
   },
   "outputs": [],
   "source": [
    "# extract symbols and xrefs\n",
    "xref_rows = list()\n",
    "symbol_rows = list()\n",
    "\n",
    "for i, series in gene_df.iterrows():\n",
    "    gene_id = series.GeneID\n",
    "    \n",
    "    # symbols\n",
    "    symbol = series.Symbol\n",
    "    if pandas.notnull(symbol):\n",
    "        symbol_rows.append((gene_id, 'symbol', symbol))\n",
    "    \n",
    "    # synonyms\n",
    "    synonyms = series.Synonyms\n",
    "    if pandas.notnull(synonyms):\n",
    "        for synonym in synonyms.split('|'):\n",
    "            symbol_rows.append((gene_id, 'synonym', synonym))\n",
    "\n",
    "    # xrefs\n",
    "    dbXrefs = series.dbXrefs\n",
    "    if pandas.notnull(dbXrefs):\n",
    "        for xref in dbXrefs.split('|'):\n",
    "            db, ref = xref.split(':', 1)\n",
    "            xref_rows.append((gene_id, db, ref))\n",
    "\n",
    "xref_df = pandas.DataFrame(xref_rows, columns=['GeneID', 'resource', 'identifier'])\n",
    "xref_df.to_csv('data/xrefs-human.tsv', sep='\\t', index=False)\n",
    "\n",
    "symbol_df = pandas.DataFrame(symbol_rows, columns=['GeneID', 'type', 'symbol'])\n",
    "symbol_df.to_csv('data/symbols-human.tsv', sep='\\t', index=False)"
   ]
  },
  {
   "cell_type": "code",
   "execution_count": 20,
   "metadata": {},
   "outputs": [
    {
     "data": {
      "text/html": [
       "<div>\n",
       "<table border=\"1\" class=\"dataframe\">\n",
       "  <thead>\n",
       "    <tr style=\"text-align: right;\">\n",
       "      <th></th>\n",
       "      <th>GeneID</th>\n",
       "      <th>resource</th>\n",
       "      <th>identifier</th>\n",
       "    </tr>\n",
       "  </thead>\n",
       "  <tbody>\n",
       "    <tr>\n",
       "      <th>0</th>\n",
       "      <td>1</td>\n",
       "      <td>MIM</td>\n",
       "      <td>138670</td>\n",
       "    </tr>\n",
       "    <tr>\n",
       "      <th>1</th>\n",
       "      <td>1</td>\n",
       "      <td>HGNC</td>\n",
       "      <td>HGNC:5</td>\n",
       "    </tr>\n",
       "    <tr>\n",
       "      <th>2</th>\n",
       "      <td>1</td>\n",
       "      <td>Ensembl</td>\n",
       "      <td>ENSG00000121410</td>\n",
       "    </tr>\n",
       "    <tr>\n",
       "      <th>3</th>\n",
       "      <td>1</td>\n",
       "      <td>Vega</td>\n",
       "      <td>OTTHUMG00000183507</td>\n",
       "    </tr>\n",
       "    <tr>\n",
       "      <th>4</th>\n",
       "      <td>2</td>\n",
       "      <td>MIM</td>\n",
       "      <td>103950</td>\n",
       "    </tr>\n",
       "  </tbody>\n",
       "</table>\n",
       "</div>"
      ],
      "text/plain": [
       "   GeneID resource          identifier\n",
       "0       1      MIM              138670\n",
       "1       1     HGNC              HGNC:5\n",
       "2       1  Ensembl     ENSG00000121410\n",
       "3       1     Vega  OTTHUMG00000183507\n",
       "4       2      MIM              103950"
      ]
     },
     "execution_count": 20,
     "metadata": {},
     "output_type": "execute_result"
    }
   ],
   "source": [
    "xref_df.head()"
   ]
  },
  {
   "cell_type": "code",
   "execution_count": 21,
   "metadata": {},
   "outputs": [
    {
     "data": {
      "text/html": [
       "<div>\n",
       "<table border=\"1\" class=\"dataframe\">\n",
       "  <thead>\n",
       "    <tr style=\"text-align: right;\">\n",
       "      <th></th>\n",
       "      <th>GeneID</th>\n",
       "      <th>type</th>\n",
       "      <th>symbol</th>\n",
       "    </tr>\n",
       "  </thead>\n",
       "  <tbody>\n",
       "    <tr>\n",
       "      <th>0</th>\n",
       "      <td>1</td>\n",
       "      <td>symbol</td>\n",
       "      <td>A1BG</td>\n",
       "    </tr>\n",
       "    <tr>\n",
       "      <th>1</th>\n",
       "      <td>1</td>\n",
       "      <td>synonym</td>\n",
       "      <td>A1B</td>\n",
       "    </tr>\n",
       "    <tr>\n",
       "      <th>2</th>\n",
       "      <td>1</td>\n",
       "      <td>synonym</td>\n",
       "      <td>ABG</td>\n",
       "    </tr>\n",
       "    <tr>\n",
       "      <th>3</th>\n",
       "      <td>1</td>\n",
       "      <td>synonym</td>\n",
       "      <td>GAB</td>\n",
       "    </tr>\n",
       "    <tr>\n",
       "      <th>4</th>\n",
       "      <td>1</td>\n",
       "      <td>synonym</td>\n",
       "      <td>HYST2477</td>\n",
       "    </tr>\n",
       "  </tbody>\n",
       "</table>\n",
       "</div>"
      ],
      "text/plain": [
       "   GeneID     type    symbol\n",
       "0       1   symbol      A1BG\n",
       "1       1  synonym       A1B\n",
       "2       1  synonym       ABG\n",
       "3       1  synonym       GAB\n",
       "4       1  synonym  HYST2477"
      ]
     },
     "execution_count": 21,
     "metadata": {},
     "output_type": "execute_result"
    }
   ],
   "source": [
    "symbol_df.head()"
   ]
  },
  {
   "cell_type": "code",
   "execution_count": 22,
   "metadata": {},
   "outputs": [
    {
     "data": {
      "text/html": [
       "<div>\n",
       "<table border=\"1\" class=\"dataframe\">\n",
       "  <thead>\n",
       "    <tr style=\"text-align: right;\">\n",
       "      <th></th>\n",
       "      <th>tax_id</th>\n",
       "      <th>GeneID</th>\n",
       "      <th>Symbol</th>\n",
       "      <th>chromosome</th>\n",
       "      <th>map_location</th>\n",
       "      <th>type_of_gene</th>\n",
       "      <th>description</th>\n",
       "    </tr>\n",
       "  </thead>\n",
       "  <tbody>\n",
       "    <tr>\n",
       "      <th>0</th>\n",
       "      <td>9606</td>\n",
       "      <td>1</td>\n",
       "      <td>A1BG</td>\n",
       "      <td>19</td>\n",
       "      <td>19q13.43</td>\n",
       "      <td>protein-coding</td>\n",
       "      <td>alpha-1-B glycoprotein</td>\n",
       "    </tr>\n",
       "    <tr>\n",
       "      <th>1</th>\n",
       "      <td>9606</td>\n",
       "      <td>2</td>\n",
       "      <td>A2M</td>\n",
       "      <td>12</td>\n",
       "      <td>12p13.31</td>\n",
       "      <td>protein-coding</td>\n",
       "      <td>alpha-2-macroglobulin</td>\n",
       "    </tr>\n",
       "    <tr>\n",
       "      <th>2</th>\n",
       "      <td>9606</td>\n",
       "      <td>3</td>\n",
       "      <td>A2MP1</td>\n",
       "      <td>12</td>\n",
       "      <td>12p13.31</td>\n",
       "      <td>pseudo</td>\n",
       "      <td>alpha-2-macroglobulin pseudogene 1</td>\n",
       "    </tr>\n",
       "    <tr>\n",
       "      <th>3</th>\n",
       "      <td>9606</td>\n",
       "      <td>9</td>\n",
       "      <td>NAT1</td>\n",
       "      <td>8</td>\n",
       "      <td>8p22</td>\n",
       "      <td>protein-coding</td>\n",
       "      <td>N-acetyltransferase 1</td>\n",
       "    </tr>\n",
       "    <tr>\n",
       "      <th>4</th>\n",
       "      <td>9606</td>\n",
       "      <td>10</td>\n",
       "      <td>NAT2</td>\n",
       "      <td>8</td>\n",
       "      <td>8p22</td>\n",
       "      <td>protein-coding</td>\n",
       "      <td>N-acetyltransferase 2</td>\n",
       "    </tr>\n",
       "  </tbody>\n",
       "</table>\n",
       "</div>"
      ],
      "text/plain": [
       "   tax_id  GeneID Symbol chromosome map_location    type_of_gene  \\\n",
       "0    9606       1   A1BG         19     19q13.43  protein-coding   \n",
       "1    9606       2    A2M         12     12p13.31  protein-coding   \n",
       "2    9606       3  A2MP1         12     12p13.31          pseudo   \n",
       "3    9606       9   NAT1          8         8p22  protein-coding   \n",
       "4    9606      10   NAT2          8         8p22  protein-coding   \n",
       "\n",
       "                          description  \n",
       "0              alpha-1-B glycoprotein  \n",
       "1               alpha-2-macroglobulin  \n",
       "2  alpha-2-macroglobulin pseudogene 1  \n",
       "3               N-acetyltransferase 1  \n",
       "4               N-acetyltransferase 2  "
      ]
     },
     "execution_count": 22,
     "metadata": {},
     "output_type": "execute_result"
    }
   ],
   "source": [
    "# save a select columnset\n",
    "columns = ['tax_id', 'GeneID', 'Symbol', 'chromosome', 'map_location', 'type_of_gene', 'description']\n",
    "select_df = gene_df[columns]\n",
    "select_df.to_csv('data/genes-human.tsv', sep='\\t', index=False)\n",
    "select_df.head()"
   ]
  },
  {
   "cell_type": "code",
   "execution_count": 23,
   "metadata": {
    "collapsed": true
   },
   "outputs": [],
   "source": [
    "# Compute dictionaries of symbols to GeneIDs and save as jsons\n",
    "symbol_df = pandas.read_table('data/symbols-human.tsv')\n",
    "\n",
    "symbol_to_id = dict()\n",
    "synonym_to_ids = dict()\n",
    "for i, row in symbol_df.iterrows():\n",
    "    symbol = row.symbol\n",
    "    if pandas.isnull(symbol):\n",
    "        continue\n",
    "    gene_id = row.GeneID\n",
    "    if row.type == 'symbol':\n",
    "        symbol_to_id[symbol] = gene_id\n",
    "    if row.type == 'synonym':\n",
    "        synonym_to_ids.setdefault(symbol, list()).append(gene_id)\n",
    "\n",
    "with open('data/symbols-human.json', 'w') as write_file:\n",
    "    json.dump(symbol_to_id, write_file, indent=2, sort_keys=True)\n",
    "with open('data/synonyms-human.json', 'w') as write_file:\n",
    "    json.dump(synonym_to_ids, write_file, indent=2, sort_keys=True)"
   ]
  },
  {
   "cell_type": "markdown",
   "metadata": {},
   "source": [
    "### Create a symbol to ID mapping that includes both approved symbols and synonyms"
   ]
  },
  {
   "cell_type": "code",
   "execution_count": 24,
   "metadata": {
    "collapsed": true
   },
   "outputs": [],
   "source": [
    "# Synonyms that uniquely map to GeneIDs\n",
    "symbol_map = {k: v[0] for k, v in synonym_to_ids.items() if len(v) == 1}\n",
    "\n",
    "# Override synonyms with symbols\n",
    "symbol_map.update(symbol_to_id)\n",
    "\n",
    "with open('data/symbol-map.json', 'w') as write_file:\n",
    "    json.dump(symbol_map, write_file, indent=2, sort_keys=True)"
   ]
  },
  {
   "cell_type": "code",
   "execution_count": 31,
   "metadata": {},
   "outputs": [
    {
     "data": {
      "text/html": [
       "<div>\n",
       "<table border=\"1\" class=\"dataframe\">\n",
       "  <thead>\n",
       "    <tr style=\"text-align: right;\">\n",
       "      <th></th>\n",
       "      <th>tax_id</th>\n",
       "      <th>GeneID</th>\n",
       "      <th>Symbol</th>\n",
       "      <th>LocusTag</th>\n",
       "      <th>Synonyms</th>\n",
       "      <th>dbXrefs</th>\n",
       "      <th>chromosome</th>\n",
       "      <th>map_location</th>\n",
       "      <th>description</th>\n",
       "      <th>type_of_gene</th>\n",
       "      <th>Symbol_from_nomenclature_authority</th>\n",
       "      <th>Full_name_from_nomenclature_authority</th>\n",
       "      <th>Nomenclature_status</th>\n",
       "      <th>Other_designations</th>\n",
       "      <th>Modification_date</th>\n",
       "    </tr>\n",
       "  </thead>\n",
       "  <tbody>\n",
       "    <tr>\n",
       "      <th>9159</th>\n",
       "      <td>9606</td>\n",
       "      <td>22947</td>\n",
       "      <td>DUX4L1</td>\n",
       "      <td>NaN</td>\n",
       "      <td>DUX10|DUX4</td>\n",
       "      <td>HGNC:HGNC:3082</td>\n",
       "      <td>4</td>\n",
       "      <td>4q35.2</td>\n",
       "      <td>double homeobox 4 like 1</td>\n",
       "      <td>pseudo</td>\n",
       "      <td>DUX4L1</td>\n",
       "      <td>double homeobox 4 like 1</td>\n",
       "      <td>O</td>\n",
       "      <td>double homeobox protein 10|double homeobox pro...</td>\n",
       "      <td>20170408</td>\n",
       "    </tr>\n",
       "  </tbody>\n",
       "</table>\n",
       "</div>"
      ],
      "text/plain": [
       "      tax_id  GeneID  Symbol  LocusTag    Synonyms         dbXrefs chromosome  \\\n",
       "9159    9606   22947  DUX4L1       NaN  DUX10|DUX4  HGNC:HGNC:3082          4   \n",
       "\n",
       "     map_location               description type_of_gene  \\\n",
       "9159       4q35.2  double homeobox 4 like 1       pseudo   \n",
       "\n",
       "     Symbol_from_nomenclature_authority Full_name_from_nomenclature_authority  \\\n",
       "9159                             DUX4L1              double homeobox 4 like 1   \n",
       "\n",
       "     Nomenclature_status                                 Other_designations  \\\n",
       "9159                   O  double homeobox protein 10|double homeobox pro...   \n",
       "\n",
       "      Modification_date  \n",
       "9159           20170408  "
      ]
     },
     "execution_count": 31,
     "metadata": {},
     "output_type": "execute_result"
    }
   ],
   "source": [
    "gene_df.query('Symbol == \"DUX4L1\"')"
   ]
  },
  {
   "cell_type": "code",
   "execution_count": 34,
   "metadata": {},
   "outputs": [
    {
     "data": {
      "text/html": [
       "<div>\n",
       "<table border=\"1\" class=\"dataframe\">\n",
       "  <thead>\n",
       "    <tr style=\"text-align: right;\">\n",
       "      <th></th>\n",
       "      <th>tax_id</th>\n",
       "      <th>GeneID</th>\n",
       "      <th>Symbol</th>\n",
       "      <th>chromosome</th>\n",
       "      <th>map_location</th>\n",
       "      <th>type_of_gene</th>\n",
       "      <th>description</th>\n",
       "    </tr>\n",
       "  </thead>\n",
       "  <tbody>\n",
       "    <tr>\n",
       "      <th>9159</th>\n",
       "      <td>9606</td>\n",
       "      <td>22947</td>\n",
       "      <td>DUX4L1</td>\n",
       "      <td>4</td>\n",
       "      <td>4q35.2</td>\n",
       "      <td>pseudo</td>\n",
       "      <td>double homeobox 4 like 1</td>\n",
       "    </tr>\n",
       "  </tbody>\n",
       "</table>\n",
       "</div>"
      ],
      "text/plain": [
       "      tax_id  GeneID  Symbol chromosome map_location type_of_gene  \\\n",
       "9159    9606   22947  DUX4L1          4       4q35.2       pseudo   \n",
       "\n",
       "                   description  \n",
       "9159  double homeobox 4 like 1  "
      ]
     },
     "execution_count": 34,
     "metadata": {},
     "output_type": "execute_result"
    }
   ],
   "source": [
    "select_df.query('Symbol == \"DUX4L1\"')"
   ]
  }
 ],
 "metadata": {
  "kernelspec": {
   "display_name": "Python 3",
   "language": "python",
   "name": "python3"
  },
  "language_info": {
   "codemirror_mode": {
    "name": "ipython",
    "version": 3
   },
   "file_extension": ".py",
   "mimetype": "text/x-python",
   "name": "python",
   "nbconvert_exporter": "python",
   "pygments_lexer": "ipython3",
   "version": "3.5.3"
  }
 },
 "nbformat": 4,
 "nbformat_minor": 2
}
